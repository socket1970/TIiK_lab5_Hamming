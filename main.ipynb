{
 "cells": [
  {
   "cell_type": "code",
   "execution_count": null,
   "metadata": {},
   "outputs": [
    {
     "name": "stdin",
     "output_type": "stream",
     "text": [
      "Введите количество битов:  100000\n",
      "Введите вероятности ошибки и количество итераций через пробел:  0.010 0.025 0.040 0.055 0.07 10\n",
      "Введите вероятность появления нуля:  0.5\n"
     ]
    },
    {
     "data": {
      "application/vnd.jupyter.widget-view+json": {
       "model_id": "ec7a07c06b50467ea24d68b518f1f69d",
       "version_major": 2,
       "version_minor": 0
      },
      "text/plain": [
       "0.01:   0%|          | 0/10 [00:00<?, ?it/s]"
      ]
     },
     "metadata": {},
     "output_type": "display_data"
    },
    {
     "data": {
      "application/vnd.jupyter.widget-view+json": {
       "model_id": "ea73b518bdd24753803d672d20d0136e",
       "version_major": 2,
       "version_minor": 0
      },
      "text/plain": [
       "0.025:   0%|          | 0/10 [00:00<?, ?it/s]"
      ]
     },
     "metadata": {},
     "output_type": "display_data"
    },
    {
     "data": {
      "application/vnd.jupyter.widget-view+json": {
       "model_id": "da0898f4602c4889b931de6ea985a0dd",
       "version_major": 2,
       "version_minor": 0
      },
      "text/plain": [
       "0.04:   0%|          | 0/10 [00:00<?, ?it/s]"
      ]
     },
     "metadata": {},
     "output_type": "display_data"
    },
    {
     "data": {
      "application/vnd.jupyter.widget-view+json": {
       "model_id": "19bd271522cc4f6da792133f49d4439d",
       "version_major": 2,
       "version_minor": 0
      },
      "text/plain": [
       "0.055:   0%|          | 0/10 [00:00<?, ?it/s]"
      ]
     },
     "metadata": {},
     "output_type": "display_data"
    }
   ],
   "source": [
    "from src.model import Model\n",
    "\n",
    "bite = int(input(\"Введите количество битов: \"))\n",
    "probabilityError = input(\"Введите вероятности ошибки и количество итераций через пробел: \")\n",
    "probabilityZero = float(input(\"Введите вероятность появления нуля: \"))\n",
    "\n",
    "m = Model(bite,\n",
    "          probabilityError,\n",
    "          probabilityZero,\n",
    "          write_to_csv=True,\n",
    "          name_csv_file=\"отчет\")\n",
    "m.start()"
   ]
  }
 ],
 "metadata": {
  "kernelspec": {
   "display_name": "Python 3 (ipykernel)",
   "language": "python",
   "name": "python3"
  },
  "language_info": {
   "codemirror_mode": {
    "name": "ipython",
    "version": 3
   },
   "file_extension": ".py",
   "mimetype": "text/x-python",
   "name": "python",
   "nbconvert_exporter": "python",
   "pygments_lexer": "ipython3",
   "version": "3.11.3"
  }
 },
 "nbformat": 4,
 "nbformat_minor": 4
}
